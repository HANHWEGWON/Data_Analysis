{
 "cells": [
  {
   "cell_type": "code",
   "execution_count": 17,
   "metadata": {},
   "outputs": [
    {
     "name": "stdout",
     "output_type": "stream",
     "text": [
      "                                 2022-11    2022-10    2022-09    2022-08  \\\n",
      "Value                                                                       \n",
      "1970-01-01 00:00:00.000000001 2022-11-07 2022-10-07 2022-09-06 2022-08-06   \n",
      "1970-01-01 00:00:00.000000002 2022-11-07 2022-10-07 2022-09-06 2022-08-06   \n",
      "1970-01-01 00:00:00.000000003 2022-11-07 2022-10-07 2022-09-06 2022-08-06   \n",
      "\n",
      "                                 2022-07    2022-06    2022-05    2022-04  \\\n",
      "Value                                                                       \n",
      "1970-01-01 00:00:00.000000001 2022-07-06 2022-06-05 2022-05-05 2022-04-04   \n",
      "1970-01-01 00:00:00.000000002 2022-07-06 2022-06-05 2022-05-05 2022-04-04   \n",
      "1970-01-01 00:00:00.000000003 2022-07-06 2022-06-05 2022-05-05 2022-04-04   \n",
      "\n",
      "                                 2022-03    2022-02    2022-01  \n",
      "Value                                                           \n",
      "1970-01-01 00:00:00.000000001 2022-03-04 2022-02-01 2022-01-01  \n",
      "1970-01-01 00:00:00.000000002 2022-03-04 2022-02-01 2022-01-01  \n",
      "1970-01-01 00:00:00.000000003 2022-03-04 2022-02-01 2022-01-01  \n"
     ]
    }
   ],
   "source": [
    "import pandas as pd\n",
    "from datetime import datetime, timedelta\n",
    "\n",
    "# 예시 데이터프레임 생성\n",
    "data = {'Value': [1, 2, 3]}\n",
    "df = pd.DataFrame(data)\n",
    "\n",
    "# 첫 번째 행에 연속된 월 데이터 추가\n",
    "start_date = datetime(2022, 1, 1)\n",
    "end_date = datetime(2022, 12, 1)\n",
    "current_date = start_date\n",
    "\n",
    "while current_date <= end_date:\n",
    "    col_name = current_date.strftime('%Y-%m')\n",
    "\n",
    "    if col_name not in df.columns:\n",
    "        df.insert(0, col_name, current_date)\n",
    "\n",
    "    current_date += timedelta(days=31)  # 31일씩 증가 (31일씩 늘어나도 2월은 28일까지)\n",
    "\n",
    "# 'Value' 열을 인덱스로 설정\n",
    "df.set_index('Value', inplace=True)\n",
    "\n",
    "# DatetimeIndex로 변환\n",
    "df.index = pd.to_datetime(df.index)\n",
    "\n",
    "# 월 단위로 데이터 집계\n",
    "df_resampled = df.resample('M').first()  # 'M'은 월 단위, 'first()'는 첫 번째 값 선택\n",
    "\n",
    "# 결과 출력\n",
    "print(df)"
   ]
  }
 ],
 "metadata": {
  "kernelspec": {
   "display_name": "base",
   "language": "python",
   "name": "python3"
  },
  "language_info": {
   "codemirror_mode": {
    "name": "ipython",
    "version": 3
   },
   "file_extension": ".py",
   "mimetype": "text/x-python",
   "name": "python",
   "nbconvert_exporter": "python",
   "pygments_lexer": "ipython3",
   "version": "3.11.5"
  }
 },
 "nbformat": 4,
 "nbformat_minor": 2
}
